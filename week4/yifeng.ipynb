{
 "cells": [
  {
   "cell_type": "code",
   "execution_count": 9,
   "id": "b7780ad1",
   "metadata": {},
   "outputs": [
    {
     "name": "stderr",
     "output_type": "stream",
     "text": [
      "/home/yifeng/work/env/mujoco/lib/python3.10/site-packages/glfw/__init__.py:917: GLFWError: (65537) b'The GLFW library is not initialized'\n",
      "  warnings.warn(message, GLFWError)\n"
     ]
    }
   ],
   "source": [
    "import numpy as np\n",
    "\n",
    "# patch for backward compatibility\n",
    "if not hasattr(np, 'bool8'):\n",
    "    np.bool8 = np.bool_\n",
    "    \n",
    "import gymnasium as gym\n",
    "\n",
    "env = gym.make(\"Ant-v4\", render_mode=\"human\")  # replace with HalfCheetah-v4 or Walker2d-v4\n",
    "obs = env.reset()\n",
    "\n",
    "for _ in range(1000):\n",
    "    env.render()\n",
    "    action = env.action_space.sample()  # random action\n",
    "    obs, reward, terminated, truncated, info = env.step(action)\n",
    "    \n",
    "    done = terminated or truncated\n",
    "    if done:\n",
    "        obs = env.reset()\n",
    "\n",
    "env.close()"
   ]
  },
  {
   "cell_type": "code",
   "execution_count": 10,
   "id": "ad3421bd",
   "metadata": {},
   "outputs": [
    {
     "name": "stdout",
     "output_type": "stream",
     "text": [
      "Box(-inf, inf, (27,), float64)\n"
     ]
    }
   ],
   "source": [
    "print(env.observation_space)"
   ]
  },
  {
   "cell_type": "code",
   "execution_count": 11,
   "id": "e492cb21",
   "metadata": {},
   "outputs": [
    {
     "name": "stdout",
     "output_type": "stream",
     "text": [
      "Box(-1.0, 1.0, (8,), float32)\n"
     ]
    }
   ],
   "source": [
    "print(env.action_space)"
   ]
  },
  {
   "cell_type": "code",
   "execution_count": 18,
   "id": "a9bf8e49",
   "metadata": {},
   "outputs": [
    {
     "name": "stdout",
     "output_type": "stream",
     "text": [
      "CoM: [ 3.27040642e-21 -3.29517377e-21  7.49509990e-01]\n",
      "CoM velocity: [0. 0. 0.]\n"
     ]
    },
    {
     "ename": "AttributeError",
     "evalue": "'Handle' object has no attribute 'render'",
     "output_type": "error",
     "traceback": [
      "\u001b[0;31m---------------------------------------------------------------------------\u001b[0m",
      "\u001b[0;31mAttributeError\u001b[0m                            Traceback (most recent call last)",
      "Cell \u001b[0;32mIn[18], line 22\u001b[0m\n\u001b[1;32m     19\u001b[0m com_vel \u001b[38;5;241m=\u001b[39m data\u001b[38;5;241m.\u001b[39msubtree_linvel[\u001b[38;5;241m0\u001b[39m]\n\u001b[1;32m     20\u001b[0m \u001b[38;5;28mprint\u001b[39m(\u001b[38;5;124m\"\u001b[39m\u001b[38;5;124mCoM velocity:\u001b[39m\u001b[38;5;124m\"\u001b[39m, com_vel)\n\u001b[0;32m---> 22\u001b[0m \u001b[43mviewer\u001b[49m\u001b[38;5;241;43m.\u001b[39;49m\u001b[43mrender\u001b[49m()\n",
      "\u001b[0;31mAttributeError\u001b[0m: 'Handle' object has no attribute 'render'"
     ]
    }
   ],
   "source": [
    "import mujoco\n",
    "import mujoco.viewer\n",
    "import numpy as np\n",
    "\n",
    "# Load XML model\n",
    "model = mujoco.MjModel.from_xml_path(\"ant.xml\")  # download Ant XML from Gym's mujoco_models\n",
    "data = mujoco.MjData(model)\n",
    "\n",
    "viewer = mujoco.viewer.launch_passive(model,data)\n",
    "\n",
    "for _ in range(1000):\n",
    "    mujoco.mj_step(model, data)  # advance physics\n",
    "\n",
    "    # Get CoM of entire robot\n",
    "    com = data.subtree_com[0]  # index 0 = root\n",
    "    print(\"CoM:\", com)\n",
    "\n",
    "    # Optional: check velocity of CoM\n",
    "    com_vel = data.subtree_linvel[0]\n",
    "    print(\"CoM velocity:\", com_vel)\n",
    "\n",
    "    viewer.render()\n"
   ]
  },
  {
   "cell_type": "code",
   "execution_count": null,
   "id": "a36ee459",
   "metadata": {},
   "outputs": [],
   "source": []
  }
 ],
 "metadata": {
  "kernelspec": {
   "display_name": "mujoco",
   "language": "python",
   "name": "mujoco"
  },
  "language_info": {
   "codemirror_mode": {
    "name": "ipython",
    "version": 3
   },
   "file_extension": ".py",
   "mimetype": "text/x-python",
   "name": "python",
   "nbconvert_exporter": "python",
   "pygments_lexer": "ipython3",
   "version": "3.10.14"
  }
 },
 "nbformat": 4,
 "nbformat_minor": 5
}
